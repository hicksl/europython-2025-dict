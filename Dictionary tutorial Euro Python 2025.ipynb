{
 "cells": [
  {
   "cell_type": "markdown",
   "id": "7f380a15-bd42-401e-b4a8-a139be8d3221",
   "metadata": {},
   "source": [
    "# Agenda\n",
    "\n",
    "1. What is a dictionary?\n",
    "2. Hash functions\n",
    "3. Creating a `HashTable` class\n",
    "4. Retrievals from it\n",
    "5. Assignments to it"
   ]
  },
  {
   "cell_type": "code",
   "execution_count": null,
   "id": "8298e5c6-5dfe-4750-87d2-edc8cb3ba1ab",
   "metadata": {},
   "outputs": [],
   "source": [
    "\n"
   ]
  }
 ],
 "metadata": {
  "kernelspec": {
   "display_name": "Python 3 (ipykernel)",
   "language": "python",
   "name": "python3"
  },
  "language_info": {
   "codemirror_mode": {
    "name": "ipython",
    "version": 3
   },
   "file_extension": ".py",
   "mimetype": "text/x-python",
   "name": "python",
   "nbconvert_exporter": "python",
   "pygments_lexer": "ipython3",
   "version": "3.13.1"
  },
  "widgets": {
   "application/vnd.jupyter.widget-state+json": {
    "state": {},
    "version_major": 2,
    "version_minor": 0
   }
  }
 },
 "nbformat": 4,
 "nbformat_minor": 5
}
