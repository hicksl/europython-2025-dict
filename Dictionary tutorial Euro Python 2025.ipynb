{
 "cells": [
  {
   "cell_type": "markdown",
   "id": "7f380a15-bd42-401e-b4a8-a139be8d3221",
   "metadata": {},
   "source": [
    "# Agenda\n",
    "\n",
    "1. What is a dictionary?\n",
    "2. Hash functions\n",
    "3. Creating a `HashTable` class\n",
    "4. Retrievals from it\n",
    "5. Assignments to it\n",
    "6. Improving the search\n",
    "7. Magic methods for making it more dict-like\n",
    "8. Iteration over our dict\n",
    "9. Modern Python dicts vs. this implementation"
   ]
  },
  {
   "cell_type": "markdown",
   "id": "a8d7cfc5-f85d-4e96-ad53-f179607b5c52",
   "metadata": {},
   "source": [
    "# What is a dict?\n",
    "\n",
    "We in the Python world love dicts. But they're in other languages, too:\n",
    "\n",
    "- Hashes\n",
    "- Hash tables\n",
    "- Hash maps\n",
    "- Maps\n",
    "- Key-value stores\n",
    "- Name-value stores\n",
    "\n",
    "the idea is that we have pairs of information that we're storing:\n",
    "\n",
    "- We have the \"key,\"  we get to determine what it is\n",
    "    - Keys are unique within a dict\n",
    "    - They have to be (sort of) immutable\n",
    "- We have values, which can be anything\n"
   ]
  },
  {
   "cell_type": "code",
   "execution_count": 1,
   "id": "725cc1c3-e05e-4631-8aff-8245d69ab585",
   "metadata": {},
   "outputs": [
    {
     "data": {
      "text/plain": [
       "{'a': 10, 'b': 20, 'c': 30}"
      ]
     },
     "execution_count": 1,
     "metadata": {},
     "output_type": "execute_result"
    }
   ],
   "source": [
    "d = {'a':10, 'b':20, 'c':30}\n",
    "d"
   ]
  },
  {
   "cell_type": "code",
   "execution_count": 2,
   "id": "0224293d-05a4-47ee-a078-305922606d37",
   "metadata": {},
   "outputs": [
    {
     "data": {
      "text/plain": [
       "3"
      ]
     },
     "execution_count": 2,
     "metadata": {},
     "output_type": "execute_result"
    }
   ],
   "source": [
    "len(d)"
   ]
  },
  {
   "cell_type": "code",
   "execution_count": 3,
   "id": "d412dc83-e235-4475-be4c-c9c9edf2b45d",
   "metadata": {},
   "outputs": [
    {
     "data": {
      "text/plain": [
       "dict"
      ]
     },
     "execution_count": 3,
     "metadata": {},
     "output_type": "execute_result"
    }
   ],
   "source": [
    "type(d)"
   ]
  },
  {
   "cell_type": "code",
   "execution_count": 4,
   "id": "1fb87de4-8771-4f0a-9612-41df8c2aa4b6",
   "metadata": {},
   "outputs": [
    {
     "data": {
      "text/plain": [
       "{'a': 999, 'b': 20, 'c': 30}"
      ]
     },
     "execution_count": 4,
     "metadata": {},
     "output_type": "execute_result"
    }
   ],
   "source": [
    "d['a'] = 999\n",
    "d"
   ]
  },
  {
   "cell_type": "code",
   "execution_count": 5,
   "id": "e3b8ce1b-f4f9-4b48-a1eb-ccf5ad327167",
   "metadata": {},
   "outputs": [
    {
     "ename": "KeyError",
     "evalue": "'x'",
     "output_type": "error",
     "traceback": [
      "\u001b[0;31m---------------------------------------------------------------------------\u001b[0m",
      "\u001b[0;31mKeyError\u001b[0m                                  Traceback (most recent call last)",
      "Cell \u001b[0;32mIn[5], line 1\u001b[0m\n\u001b[0;32m----> 1\u001b[0m \u001b[43md\u001b[49m\u001b[43m[\u001b[49m\u001b[38;5;124;43m'\u001b[39;49m\u001b[38;5;124;43mx\u001b[39;49m\u001b[38;5;124;43m'\u001b[39;49m\u001b[43m]\u001b[49m\n",
      "\u001b[0;31mKeyError\u001b[0m: 'x'"
     ]
    }
   ],
   "source": [
    "d['x']"
   ]
  },
  {
   "cell_type": "code",
   "execution_count": 6,
   "id": "f3aa88c6-6842-4c80-91a0-1b820712a49b",
   "metadata": {},
   "outputs": [
    {
     "data": {
      "text/plain": [
       "False"
      ]
     },
     "execution_count": 6,
     "metadata": {},
     "output_type": "execute_result"
    }
   ],
   "source": [
    "# search in a dict for a key\n",
    "'x' in d"
   ]
  },
  {
   "cell_type": "code",
   "execution_count": 7,
   "id": "1bddf04f-de13-485e-89b0-8e083a65c0ba",
   "metadata": {},
   "outputs": [
    {
     "data": {
      "text/plain": [
       "True"
      ]
     },
     "execution_count": 7,
     "metadata": {},
     "output_type": "execute_result"
    }
   ],
   "source": [
    "'a' in d"
   ]
  },
  {
   "cell_type": "code",
   "execution_count": 9,
   "id": "07d45b81-cd4c-4233-8b88-24a7b0ebd2a2",
   "metadata": {},
   "outputs": [
    {
     "ename": "KeyError",
     "evalue": "'a'",
     "output_type": "error",
     "traceback": [
      "\u001b[0;31m---------------------------------------------------------------------------\u001b[0m",
      "\u001b[0;31mKeyError\u001b[0m                                  Traceback (most recent call last)",
      "Cell \u001b[0;32mIn[9], line 4\u001b[0m\n\u001b[1;32m      1\u001b[0m \u001b[38;5;66;03m# how do we remove a key-value pair from our dict?\u001b[39;00m\n\u001b[1;32m      2\u001b[0m \u001b[38;5;66;03m# dict.pop\u001b[39;00m\n\u001b[0;32m----> 4\u001b[0m \u001b[43md\u001b[49m\u001b[38;5;241;43m.\u001b[39;49m\u001b[43mpop\u001b[49m\u001b[43m(\u001b[49m\u001b[38;5;124;43m'\u001b[39;49m\u001b[38;5;124;43ma\u001b[39;49m\u001b[38;5;124;43m'\u001b[39;49m\u001b[43m)\u001b[49m  \u001b[38;5;66;03m# removes the key-value pair, and returns the value we removed\u001b[39;00m\n",
      "\u001b[0;31mKeyError\u001b[0m: 'a'"
     ]
    }
   ],
   "source": [
    "# how do we remove a key-value pair from our dict?\n",
    "# dict.pop\n",
    "\n",
    "d.pop('a')  # removes the key-value pair, and returns the value we removed"
   ]
  },
  {
   "cell_type": "markdown",
   "id": "8cb0db06-7d4d-4ee2-95fe-9a7ff74276bc",
   "metadata": {},
   "source": [
    "# Rules associated with them\n",
    "\n",
    "- Keys will be unique. There is no way for a key to repeat itself in a dict\n",
    "- The keys must be *hashable* , which is sorta kinda the same as immutable.\n",
    "- Values can be anything at all."
   ]
  },
  {
   "cell_type": "code",
   "execution_count": 10,
   "id": "ba5616a8-267a-4873-8f95-293845342b8e",
   "metadata": {},
   "outputs": [],
   "source": [
    "name = 'Reuven'"
   ]
  },
  {
   "cell_type": "code",
   "execution_count": 11,
   "id": "4c3e445a-9df2-41bd-bd80-945a349f8d2e",
   "metadata": {},
   "outputs": [
    {
     "data": {
      "text/plain": [
       "'Reuven'"
      ]
     },
     "execution_count": 11,
     "metadata": {},
     "output_type": "execute_result"
    }
   ],
   "source": [
    "globals()['name']"
   ]
  },
  {
   "cell_type": "markdown",
   "id": "fb5511fc-488c-4584-a115-baf62cfcab16",
   "metadata": {},
   "source": [
    "# Hashable and hash functions\n",
    "\n",
    "If I want to search for an element in a list, how long will it take? It depends.\n",
    "\n",
    "Dicts are far, far faster than this. The reason is a hash function. The location used by Python to store the key-value pair is based on the key. We run a function, `hash`, on the key, and that gives us a memory location.\n",
    "\n",
    "If I say\n",
    "\n",
    "    d['a'] = 100\n",
    "\n",
    "Python computes `hash('a')`, and then stores ('a', 100) in that location."
   ]
  },
  {
   "cell_type": "code",
   "execution_count": 12,
   "id": "7d9c9cf5-7d99-453b-8004-98e28ece9ac8",
   "metadata": {},
   "outputs": [
    {
     "data": {
      "text/plain": [
       "-8342762356364650461"
      ]
     },
     "execution_count": 12,
     "metadata": {},
     "output_type": "execute_result"
    }
   ],
   "source": [
    "hash('a')"
   ]
  },
  {
   "cell_type": "code",
   "execution_count": 13,
   "id": "0bbbfb0c-baa5-4aca-b9ce-61a22901ed93",
   "metadata": {},
   "outputs": [
    {
     "data": {
      "text/plain": [
       "-2087163220244094577"
      ]
     },
     "execution_count": 13,
     "metadata": {},
     "output_type": "execute_result"
    }
   ],
   "source": [
    "hash('b')"
   ]
  },
  {
   "cell_type": "code",
   "execution_count": 14,
   "id": "bc17ff4a-e8ee-419f-aaec-4e5f4018ab05",
   "metadata": {},
   "outputs": [
    {
     "data": {
      "text/plain": [
       "3079803896062575534"
      ]
     },
     "execution_count": 14,
     "metadata": {},
     "output_type": "execute_result"
    }
   ],
   "source": [
    "hash('c')"
   ]
  },
  {
   "cell_type": "code",
   "execution_count": 15,
   "id": "b71aed41-66f9-4ece-b7dc-26b980ab5966",
   "metadata": {},
   "outputs": [
    {
     "data": {
      "text/plain": [
       "False"
      ]
     },
     "execution_count": 15,
     "metadata": {},
     "output_type": "execute_result"
    }
   ],
   "source": [
    "'a' in d"
   ]
  },
  {
   "cell_type": "code",
   "execution_count": 16,
   "id": "fb2d146c-6a53-4191-9fd2-97624d84d39b",
   "metadata": {},
   "outputs": [
    {
     "ename": "TypeError",
     "evalue": "unhashable type: 'list'",
     "output_type": "error",
     "traceback": [
      "\u001b[0;31m---------------------------------------------------------------------------\u001b[0m",
      "\u001b[0;31mTypeError\u001b[0m                                 Traceback (most recent call last)",
      "Cell \u001b[0;32mIn[16], line 4\u001b[0m\n\u001b[1;32m      1\u001b[0m \u001b[38;5;66;03m# why doesn't Python let me do this?\u001b[39;00m\n\u001b[1;32m      3\u001b[0m mylist \u001b[38;5;241m=\u001b[39m [\u001b[38;5;241m10\u001b[39m, \u001b[38;5;241m20\u001b[39m, \u001b[38;5;241m30\u001b[39m]\n\u001b[0;32m----> 4\u001b[0m \u001b[43md\u001b[49m\u001b[43m[\u001b[49m\u001b[43mmylist\u001b[49m\u001b[43m]\u001b[49m \u001b[38;5;241m=\u001b[39m \u001b[38;5;124m'\u001b[39m\u001b[38;5;124mhello\u001b[39m\u001b[38;5;124m'\u001b[39m\n",
      "\u001b[0;31mTypeError\u001b[0m: unhashable type: 'list'"
     ]
    }
   ],
   "source": [
    "# why doesn't Python let me do this?\n",
    "\n",
    "mylist = [10, 20, 30]\n",
    "d[mylist] = 'hello'"
   ]
  },
  {
   "cell_type": "markdown",
   "id": "c54cdff1-4e9d-4d0b-a83c-b759df2ea422",
   "metadata": {},
   "source": [
    "# Exercise: Write a hash function\n",
    "\n",
    "1. Do not use the builtin function `hash`. Call it `myhash`.\n",
    "2. It can be really simple!\n",
    "3. It should work with inputs of type `int`, `float`, `string`, and `tuple`.\n",
    "4. Given any of these inputs, the function should return an integer.\n",
    "5. Any other type can raise a `TypeError`.\n",
    "6. You can use `ord` (which gives the Unicode value for a character) as part of your calculation\n",
    "7. You should get different values for `hash('abc')` as `hash('cba')`."
   ]
  },
  {
   "cell_type": "code",
   "execution_count": null,
   "id": "e05da584-7995-4bc0-ac3f-099a4d8d4ab9",
   "metadata": {},
   "outputs": [],
   "source": []
  }
 ],
 "metadata": {
  "kernelspec": {
   "display_name": "Python 3 (ipykernel)",
   "language": "python",
   "name": "python3"
  },
  "language_info": {
   "codemirror_mode": {
    "name": "ipython",
    "version": 3
   },
   "file_extension": ".py",
   "mimetype": "text/x-python",
   "name": "python",
   "nbconvert_exporter": "python",
   "pygments_lexer": "ipython3",
   "version": "3.13.1"
  },
  "widgets": {
   "application/vnd.jupyter.widget-state+json": {
    "state": {},
    "version_major": 2,
    "version_minor": 0
   }
  }
 },
 "nbformat": 4,
 "nbformat_minor": 5
}
