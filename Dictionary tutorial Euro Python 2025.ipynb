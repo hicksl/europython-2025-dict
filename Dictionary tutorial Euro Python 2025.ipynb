{
 "cells": [
  {
   "cell_type": "markdown",
   "id": "7f380a15-bd42-401e-b4a8-a139be8d3221",
   "metadata": {},
   "source": [
    "# Agenda\n",
    "\n",
    "1. What is a dictionary?\n",
    "2. Hash functions\n",
    "3. Creating a `HashTable` class\n",
    "4. Retrievals from it\n",
    "5. Assignments to it\n",
    "6. Improving the search\n",
    "7. Magic methods for making it more dict-like\n",
    "8. Iteration over our dict\n",
    "9. Modern Python dicts vs. this implementation"
   ]
  },
  {
   "cell_type": "markdown",
   "id": "a8d7cfc5-f85d-4e96-ad53-f179607b5c52",
   "metadata": {},
   "source": [
    "# What is a dict?\n",
    "\n",
    "We in the Python world love dicts. But they're in other languages, too:\n",
    "\n",
    "- Hashes\n",
    "- Hash tables\n",
    "- Hash maps\n",
    "- Maps\n",
    "- Key-value stores\n",
    "- Name-value stores\n",
    "\n",
    "the idea is that we have pairs of information that we're storing:\n",
    "\n",
    "- We have the \"key,\"  we get to determine what it is\n",
    "- "
   ]
  }
 ],
 "metadata": {
  "kernelspec": {
   "display_name": "Python 3 (ipykernel)",
   "language": "python",
   "name": "python3"
  },
  "language_info": {
   "codemirror_mode": {
    "name": "ipython",
    "version": 3
   },
   "file_extension": ".py",
   "mimetype": "text/x-python",
   "name": "python",
   "nbconvert_exporter": "python",
   "pygments_lexer": "ipython3",
   "version": "3.13.1"
  },
  "widgets": {
   "application/vnd.jupyter.widget-state+json": {
    "state": {},
    "version_major": 2,
    "version_minor": 0
   }
  }
 },
 "nbformat": 4,
 "nbformat_minor": 5
}
